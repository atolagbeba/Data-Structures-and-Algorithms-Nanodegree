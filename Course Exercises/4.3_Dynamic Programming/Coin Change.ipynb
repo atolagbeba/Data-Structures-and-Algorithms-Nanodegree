{
 "cells": [
  {
   "cell_type": "markdown",
   "metadata": {
    "graffitiCellId": "id_pxg59hb"
   },
   "source": [
    "# Coin Change\n",
    "\n",
    "You are given coins of different denominations and a total amount of money. Write a function to compute the fewest coins needed to make up that amount. If that amount of money cannot be made up by any combination of the coins, return `-1`.\n",
    "\n",
    "As an example:\n",
    "* Input: `coins = [1, 2, 3]`, `amount = 6`\n",
    "* Output: `2`\n",
    "* Explanation: The output is `2` because we can use `2` coins with value `3`. That is, `6 = 3 + 3`. We could also use `3` coins with value `2` (that is, `6 = 2 + 2 + 2`), but this would use more coins—and the problem specifies we should use the smallest number of coins possible.\n",
    "\n",
    "There's test code below that you can use to check your solution. And at the bottom of the notebook, you'll find two different possible solutions."
   ]
  },
  {
   "cell_type": "code",
   "execution_count": 8,
   "metadata": {
    "graffitiCellId": "id_n12iz5t"
   },
   "outputs": [
    {
     "name": "stdout",
     "output_type": "stream",
     "text": [
      "2\n",
      "3\n",
      "4\n",
      "-1\n",
      "-1\n"
     ]
    }
   ],
   "source": [
    "import math\n",
    "\n",
    "def coin_change(coins, amount):\n",
    "    numCoins = coinChange_helper(coins, amount, memo = {})\n",
    "    return -1 if numCoins == float('inf') else numCoins\n",
    "\n",
    "def coinChange_helper(coins, amount, memo = {}):\n",
    "    if amount in memo:\n",
    "        return memo[amount]\n",
    "    if amount == 0:\n",
    "        \n",
    "        return 0\n",
    "    if amount < 0:\n",
    "        return float('inf')\n",
    "    \n",
    "    NumOfCoinsOptions = []   # to track minumum no of coins of all combinations\n",
    "    for coin in coins:        \n",
    "        balance = amount - coin\n",
    "        numCoins = 1 + coinChange_helper(coins, balance, memo)\n",
    "        NumOfCoinsOptions.append(numCoins)\n",
    "     \n",
    "    memo[amount] = min(NumOfCoinsOptions )        \n",
    "    \n",
    "    return memo[amount]\n",
    "\n",
    "print(coinChange([1,2,3], 6))\n",
    "print(coinChange([1, 2, 5], 11))\n",
    "print(coinChange([1,4,5,6], 23))\n",
    "print(coinChange([5,7,8], 2))\n",
    "print(coinChange([7, 9], 20))\n",
    "\n"
   ]
  },
  {
   "cell_type": "code",
   "execution_count": 9,
   "metadata": {
    "graffitiCellId": "id_g1vpolv"
   },
   "outputs": [],
   "source": [
    "def test_function(test_case):\n",
    "    arr = test_case[0]\n",
    "    amount = test_case[1]\n",
    "    solution = test_case[2]\n",
    "    output = coin_change(arr, amount)\n",
    "    if output == solution:\n",
    "        print(\"Pass\")\n",
    "    else:\n",
    "        print(\"Fail\")"
   ]
  },
  {
   "cell_type": "code",
   "execution_count": 10,
   "metadata": {
    "graffitiCellId": "id_cqdyyun"
   },
   "outputs": [
    {
     "name": "stdout",
     "output_type": "stream",
     "text": [
      "Pass\n"
     ]
    }
   ],
   "source": [
    "arr = [1,2,5]\n",
    "amount = 11\n",
    "solution = 3\n",
    "test_case = [arr, amount, solution]\n",
    "test_function(test_case)"
   ]
  },
  {
   "cell_type": "code",
   "execution_count": 11,
   "metadata": {
    "graffitiCellId": "id_91p1cz0"
   },
   "outputs": [
    {
     "name": "stdout",
     "output_type": "stream",
     "text": [
      "Pass\n"
     ]
    }
   ],
   "source": [
    "arr = [1,4,5,6]\n",
    "amount = 23\n",
    "solution = 4\n",
    "test_case = [arr, amount, solution]\n",
    "test_function(test_case)"
   ]
  },
  {
   "cell_type": "code",
   "execution_count": 12,
   "metadata": {
    "graffitiCellId": "id_mo17gzo"
   },
   "outputs": [
    {
     "name": "stdout",
     "output_type": "stream",
     "text": [
      "Pass\n"
     ]
    }
   ],
   "source": [
    "arr = [5,7,8]\n",
    "amount = 2\n",
    "solution = -1\n",
    "test_case = [arr, amount, solution]\n",
    "test_function(test_case)"
   ]
  },
  {
   "cell_type": "markdown",
   "metadata": {
    "graffitiCellId": "id_jjdrdzm"
   },
   "source": [
    "## Solutions\n",
    "\n",
    "Let's look at two different solutions. Here's one way to do it...\n",
    "\n",
    "<span class=\"graffiti-highlight graffiti-id_jjdrdzm-id_fpk926y\"><i></i><button>Show Solution One</button></span>"
   ]
  },
  {
   "cell_type": "markdown",
   "metadata": {
    "graffitiCellId": "id_om55y5v"
   },
   "source": [
    "And here's another possibility:\n",
    "\n",
    "<span class=\"graffiti-highlight graffiti-id_bmrwntc-id_9z3z0e0\"><i></i><button>Show Solution Two</button></span>"
   ]
  }
 ],
 "metadata": {
  "graffiti": {
   "firstAuthorId": "10694620118",
   "id": "id_0hxxyvu",
   "language": "EN"
  },
  "kernelspec": {
   "display_name": "Python 3",
   "language": "python",
   "name": "python3"
  },
  "language_info": {
   "codemirror_mode": {
    "name": "ipython",
    "version": 3
   },
   "file_extension": ".py",
   "mimetype": "text/x-python",
   "name": "python",
   "nbconvert_exporter": "python",
   "pygments_lexer": "ipython3",
   "version": "3.6.3"
  }
 },
 "nbformat": 4,
 "nbformat_minor": 2
}
